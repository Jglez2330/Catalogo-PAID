{
 "cells": [
  {
   "cell_type": "markdown",
   "id": "7469e878",
   "metadata": {},
   "source": [
    "Transformada de Hough"
   ]
  },
  {
   "cell_type": "code",
   "execution_count": 2,
   "id": "07744e77",
   "metadata": {},
   "outputs": [
    {
     "data": {
      "image/png": "[encoded data removed]",
      "text/plain": [
       "<Figure size 432x288 with 3 Axes>"
      ]
     },
     "metadata": {
      "needs_background": "light"
     },
     "output_type": "display_data"
    }
   ],
   "source": [
    "import matplotlib.pyplot as plt\n",
    "import numpy as np\n",
    "from scipy import signal\n",
    "import cv2\n",
    "\n",
    "def transformadaHough(tStep, rStep, lineTries):\n",
    "    # Esta funcion aplica la transformada de Hough a una imagen a escala de grises\n",
    "    # con tal de obtener las lineas de esta\n",
    "\n",
    "    fig, ax = plt.subplots(1, 3)\n",
    "\n",
    "    A = cv2.imread('../Imagenes/linea1.jpg', cv2.IMREAD_GRAYSCALE)\n",
    "    m, n = A.shape\n",
    "    ax[0].imshow(A, cmap='gray')\n",
    "    ax[0].set_title('Imagen Original')\n",
    "\n",
    "    B = cv2.normalize(A.astype('double'), None, 0.0, 1.0, cv2.NORM_MINMAX)\n",
    "    B[np.less(B, 0.5)] = 0\n",
    "    B[np.greater_equal(B, 0.5)] = 1\n",
    "    ax[1].imshow(B, cmap='gray')\n",
    "    ax[1].set_title('Imagen Binaria')\n",
    "\n",
    "    thetas = np.deg2rad(np.arange(start=0, stop=180, step=tStep))\n",
    "\n",
    "    d = np.sqrt(np.power(m, 2) + np.power(n, 2))\n",
    "    rhos = np.arange(start=-d, stop=d, step=rStep)\n",
    "\n",
    "    Acc = np.zeros((thetas.size, rhos.size))\n",
    "\n",
    "    x, y = np.where(B == 1)\n",
    "    \n",
    "    for i in range(x.size):\n",
    "        for ti in range(thetas.size):\n",
    "            theta = thetas[ti]\n",
    "            rho = (x[i] * np.cos(theta)) + (y[i] * np.sin(theta))\n",
    "            rho = np.abs(np.subtract(rhos, rho))\n",
    "            \n",
    "            ri = np.where(rho == np.amin(rho))\n",
    "            Acc[ti, ri[0][0]] += 1\n",
    "\n",
    "    ax[2].set_title('Imagen con la Transformada Aplicada')\n",
    "\n",
    "    for r in range(lineTries):\n",
    "        xp, yp = np.where(Acc == np.amax(Acc))\n",
    "\n",
    "        for k in range(xp.size):\n",
    "            thetaMax = thetas[xp[0]]\n",
    "            rhoMax = rhos[yp[0]]\n",
    "\n",
    "            if (np.abs(np.sin(thetaMax)) < 10**-4):\n",
    "                xv = rhoMax / np.cos(thetaMax)\n",
    "                ax[2].plot([n, 1], [xv, xv], color=\"blue\", linewidth=2)\n",
    "\n",
    "            else:\n",
    "                pend = -1 * np.cos(thetaMax) / np.sin(thetaMax)\n",
    "                inter = rhoMax / np.sin(thetaMax)\n",
    "\n",
    "                y1 = pend + inter\n",
    "                ym = (pend * m) + inter\n",
    "\n",
    "                x1 = (1 - inter) / pend\n",
    "                xn = (n - inter) / pend\n",
    "\n",
    "                if (pend > 0):\n",
    "                    if (0 < y1):\n",
    "                        ax[2].plot([y1, n], [1, xn], color=\"blue\", linewidth=2)\n",
    "                    else:\n",
    "                        ax[2].plot([1, ym], [x1, n], color=\"blue\", linewidth=2)\n",
    "                \n",
    "                else:\n",
    "                    if (y1 > m):\n",
    "                        ax[2].plot([ym, m], [m, xn], color=\"blue\", linewidth=2)\n",
    "                    else:\n",
    "                        ax[2].plot([y1, 1], [1, x1], color=\"blue\", linewidth=2)\n",
    "\n",
    "            Acc[xp[k], yp[k]] = 0\n",
    "\n",
    "    ax[2].invert_yaxis()\n",
    "    ax[2].imshow(A, cmap='gray')\n",
    "    plt.show()\n",
    "\n",
    "    return\n",
    "\n",
    "# Ejemplo\n",
    "transformadaHough(1, 1, 10)"
   ]
  },
  {
   "cell_type": "code",
   "execution_count": null,
   "id": "73a2760f",
   "metadata": {},
   "outputs": [],
   "source": []
  }
 ],
 "metadata": {
  "kernelspec": {
   "display_name": "Python 3 (ipykernel)",
   "language": "python",
   "name": "python3"
  },
  "language_info": {
   "codemirror_mode": {
    "name": "ipython",
    "version": 3
   },
   "file_extension": ".py",
   "mimetype": "text/x-python",
   "name": "python",
   "nbconvert_exporter": "python",
   "pygments_lexer": "ipython3",
   "version": "3.9.1"
  }
 },
 "nbformat": 4,
 "nbformat_minor": 5
}
