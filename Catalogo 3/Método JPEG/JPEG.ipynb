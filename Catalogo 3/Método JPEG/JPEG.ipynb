{
 "cells": [
  {
   "cell_type": "code",
   "execution_count": 6,
   "id": "32421072",
   "metadata": {
    "kernel": "Octave"
   },
   "outputs": [],
   "source": [
    "pkg load image\n",
    "pkg load signal"
   ]
  },
  {
   "cell_type": "code",
   "execution_count": 7,
   "id": "7da7137f",
   "metadata": {
    "kernel": "Octave"
   },
   "outputs": [],
   "source": [
    "function Q = quantization(n)\n",
    "    %This function gives the quantization, 8x8 matrix for a given n\n",
    "    %n -> Level of quantization, it is a integer between 0 and 100\n",
    "    Q50=[16 11 10 16 24 40 51 61;\n",
    "         12 12 14 19 26 58 60 55;\n",
    "         14 13 16 24 40 57 59 56;\n",
    "         14 17 22 29 51 87 80 62;\n",
    "         18 22 37 56 68 109 103 77;\n",
    "         24 35 55 64 81 104 113 92;\n",
    "         49 64 78 87 103 121 120 101;\n",
    "         72 92 95 98 112 100 103 99];\n",
    "    if n == 50\n",
    "        Q = Q50;\n",
    "    elseif n == 0\n",
    "        Q = ones(8, 8);\n",
    "    elseif and(n > 50, n < 100)\n",
    "        Q = round(((100 - n) / 50) * Q50);\n",
    "    elseif and(n > 0, n < 50)\n",
    "        Q = round((50/n)*Q50);\n",
    "    else\n",
    "        Q = NaN;\n",
    "        display(\"N debe estar entre 0 y. 100\");\n",
    "    endif\n",
    "endfunction"
   ]
  },
  {
   "cell_type": "code",
   "execution_count": 8,
   "id": "e3d21658",
   "metadata": {
    "kernel": "Octave"
   },
   "outputs": [
    {
     "name": "stdout",
     "output_type": "stream",
     "text": [
      "ans =\r\n",
      "\r\n",
      "   1   1   1   1   1   1   1   1\r\n",
      "   1   1   1   1   1   1   1   1\r\n",
      "   1   1   1   1   1   1   1   1\r\n",
      "   1   1   1   1   1   1   1   1\r\n",
      "   1   1   1   1   1   1   1   1\r\n",
      "   1   1   1   1   1   1   1   1\r\n",
      "   1   1   1   1   1   1   1   1\r\n",
      "   1   1   1   1   1   1   1   1\r\n",
      "\r\n"
     ]
    }
   ],
   "source": [
    "quantization(0)"
   ]
  },
  {
   "cell_type": "code",
   "execution_count": 9,
   "id": "c5bf98c5",
   "metadata": {
    "kernel": "Octave"
   },
   "outputs": [
    {
     "name": "stdout",
     "output_type": "stream",
     "text": [
      "ans =\r\n",
      "\r\n",
      "   0   0   0   0   0   1   1   1\r\n",
      "   0   0   0   0   1   1   1   1\r\n",
      "   0   0   0   0   1   1   1   1\r\n",
      "   0   0   0   1   1   2   2   1\r\n",
      "   0   0   1   1   1   2   2   2\r\n",
      "   0   1   1   1   2   2   2   2\r\n",
      "   1   1   2   2   2   2   2   2\r\n",
      "   1   2   2   2   2   2   2   2\r\n",
      "\r\n"
     ]
    }
   ],
   "source": [
    "quantization(99)"
   ]
  },
  {
   "cell_type": "code",
   "execution_count": 10,
   "id": "5311a95b",
   "metadata": {
    "kernel": "Octave"
   },
   "outputs": [
    {
     "name": "stdout",
     "output_type": "stream",
     "text": [
      "ans =\r\n",
      "\r\n",
      "    800    550    500    800   1200   2000   2550   3050\r\n",
      "    600    600    700    950   1300   2900   3000   2750\r\n",
      "    700    650    800   1200   2000   2850   2950   2800\r\n",
      "    700    850   1100   1450   2550   4350   4000   3100\r\n",
      "    900   1100   1850   2800   3400   5450   5150   3850\r\n",
      "   1200   1750   2750   3200   4050   5200   5650   4600\r\n",
      "   2450   3200   3900   4350   5150   6050   6000   5050\r\n",
      "   3600   4600   4750   4900   5600   5000   5150   4950\r\n",
      "\r\n"
     ]
    }
   ],
   "source": [
    "quantization(1)"
   ]
  },
  {
   "cell_type": "code",
   "execution_count": 11,
   "id": "07281afd",
   "metadata": {
    "kernel": "Octave"
   },
   "outputs": [],
   "source": [
    "function x = zigzag(A)\n",
    "    %This function encodes the matrix A into a vextor using the zigzag method\n",
    "    %A -> matrix\n",
    "    [m,~]=size(A);\n",
    "    n = floor((2*m-1)/2);\n",
    "    diags = [flip(-n:n)];\n",
    "    s = sum(abs(A)(:));\n",
    "    x = [];\n",
    "    for d = diags\n",
    "        c = m - abs(d);\n",
    "        if (d>=0) i = c; j = 1; endif    \n",
    "        if (d<0) i = m; j = abs(d)+1; endif\n",
    "\n",
    "        diag = [];\n",
    "        for e = 1:c\n",
    "            diag = [diag A(i,j)];\n",
    "            i-=1; j+=1;      \n",
    "        endfor\n",
    "\n",
    "        if mod(abs(d),2) == 0 % Es una diagonal par\n",
    "\n",
    "            x = [x flip(diag)];\n",
    "        else \n",
    "            x = [x diag]; \n",
    "        endif  \n",
    "\n",
    "        s1 = sum(abs(x));\n",
    "        if s1 == s\n",
    "            break;      \n",
    "        endif\n",
    "    endfor\n",
    "endfunction"
   ]
  },
  {
   "cell_type": "code",
   "execution_count": 26,
   "id": "883f7bdb",
   "metadata": {
    "kernel": "Octave"
   },
   "outputs": [],
   "source": [
    "function A = izigzag(x,m)\n",
    "    %This function encodes a vector x into a matrix using the inverse zigzag method\n",
    "    %x -> zigzzag encoded vector\n",
    "    %m -> size of the final matrix (mxm)\n",
    "    n = floor((2*m-1)/2); \n",
    "    diags = [flip(-n:n)];\n",
    "    s = sum(abs(x));\n",
    "    A = zeros(m);\n",
    "    l = 1; \n",
    "    for d = diags\n",
    "        c = m - abs(d); \n",
    "        if (d>=0) i = c; j = 1; endif    \n",
    "        if (d<0) i = m; j = abs(d)+1; endif\n",
    "\n",
    "        elementos = x(l:l+c-1); \n",
    "\n",
    "        if mod(abs(d),2) == 0\n",
    "            elementos = flip(elementos);\n",
    "        endif\n",
    "\n",
    "        for e = 1:c\n",
    "            A(i,j) = elementos(e);\n",
    "            i-=1; j+=1;      \n",
    "        endfor\n",
    "\n",
    "        l = l+c; \n",
    "\n",
    "        s1 = sum(abs(A)(:));\n",
    "        if s1 == s\n",
    "            break;      \n",
    "        endif\n",
    "    endfor\n",
    "endfunction"
   ]
  },
  {
   "cell_type": "code",
   "execution_count": 20,
   "id": "91144080",
   "metadata": {
    "kernel": "Octave"
   },
   "outputs": [],
   "source": [
    "function compressed_image = jpeg_compression(image, n_l)\n",
    "    %This function compresses an image into a cell using the JPEG method\n",
    "    %image -> matrix representing the image\n",
    "    %n_l -> level of compression of the image\n",
    "    %compressed_image -> cell representing the 8x8 blocks\n",
    "    [m,n] = size(image);\n",
    "    m = fix(m/8); \n",
    "    n = fix(n/8);\n",
    "    compressed_image = cell(m,n);\n",
    "    for i = 1:m\n",
    "        i_end = 8*i;\n",
    "        i_start = i_end - 7;\n",
    "        for j = 1:n\n",
    "            j_end = 8*j;\n",
    "            j_start = j_end - 7;\n",
    "            \n",
    "            kernel = image(i_start:i_end, j_start:j_end);\n",
    "            reduced_image = kernel - 128;\n",
    "            dct_image = dct2(reduced_image);\n",
    "            Q = quantization(n_l);\n",
    "            quantized_image = round(dct_image ./ Q);\n",
    "            vect = zigzag(quantized_image);\n",
    "            \n",
    "            compressed_image(i, j) = vect;\n",
    "        endfor\n",
    "    endfor\n",
    "endfunction"
   ]
  },
  {
   "cell_type": "code",
   "execution_count": 28,
   "id": "f468a9d0",
   "metadata": {
    "kernel": "Octave"
   },
   "outputs": [],
   "source": [
    "function decompressed_image = jpeg_decompression(compressed_image, n_l)\n",
    "    %This function decompresses an image into a cell using the JPEG method\n",
    "    %image -> cell representing the 8x8 blocks of the compressed image\n",
    "    %n_l -> level of compression of the image\n",
    "    %decompressed_image -> matrix representing the image\n",
    "    [m , n] = size(compressed_image);\n",
    "    decompressed_image = zeros(m*8, n*8);\n",
    "    for i= 1:m\n",
    "        i_end = 8*i;\n",
    "        i_start = i_end - 7;\n",
    "        for j = 1:n\n",
    "            j_end = 8*j;\n",
    "            j_start = j_end - 7;\n",
    "            \n",
    "            kernel = compressed_image{i , j};\n",
    "            inverse_zigzag = izigzag(kernel, 8);\n",
    "            Q =  quantization(n_l);\n",
    "            kernel_image = Q .* inverse_zigzag;\n",
    "            \n",
    "            rounded_kernel = round(idct2(kernel_image));\n",
    "            rounded_kernel = rounded_kernel + 128;\n",
    "            decompressed_image(i_start:i_end, j_start:j_end) = rounded_kernel;\n",
    "        endfor\n",
    "    endfor\n",
    "endfunction"
   ]
  },
  {
   "cell_type": "code",
   "execution_count": 34,
   "id": "b706e577",
   "metadata": {
    "kernel": "Octave"
   },
   "outputs": [
    {
     "data": {
      "image/png": "[encoded data removed]",
      "text/plain": [
       "<IPython.core.display.Image object>"
      ]
     },
     "metadata": {},
     "output_type": "display_data"
    }
   ],
   "source": [
    "A = imread('../Imagenes/1_3.png');\n",
    "A = double(A);\n",
    "B = jpeg_compression(A, 75);\n",
    "\n",
    "Ar = jpeg_decompression(B, 75);\n",
    "Ar = uint8(Ar);\n",
    "\n",
    "subplot(1,2,1);\n",
    "imshow(uint8(A));\n",
    "title('Imagen original');\n",
    "\n",
    "subplot(1,2,2);\n",
    "imshow(Ar);\n",
    "title('Imagen reconstruida');\n"
   ]
  },
  {
   "cell_type": "code",
   "execution_count": null,
   "id": "4515a036",
   "metadata": {
    "kernel": "Octave"
   },
   "outputs": [],
   "source": []
  }
 ],
 "metadata": {
  "kernelspec": {
   "display_name": "SoS",
   "language": "sos",
   "name": "sos"
  },
  "language_info": {
   "codemirror_mode": "sos",
   "file_extension": ".sos",
   "mimetype": "text/x-sos",
   "name": "sos",
   "nbconvert_exporter": "sos_notebook.converter.SoS_Exporter",
   "pygments_lexer": "sos"
  },
  "sos": {
   "kernels": [
    [
     "Octave",
     "octave",
     "octave",
     "",
     ""
    ]
   ],
   "panel": {
    "displayed": true,
    "height": 0
   },
   "version": "0.22.6"
  }
 },
 "nbformat": 4,
 "nbformat_minor": 5
}
