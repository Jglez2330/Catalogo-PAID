{
 "cells": [
  {
   "cell_type": "code",
   "execution_count": 31,
   "id": "1da47674",
   "metadata": {
    "kernel": "Python 3 (ipykernel)"
   },
   "outputs": [],
   "source": [
    "import numpy as np\n",
    "\n",
    "def convolution(matrixA, matrixB):\n",
    "    \"\"\"\n",
    "    This function will calculate the convolution of 2 matrixes.\n",
    "    :param matrixA: matrix A to convolution\n",
    "    :param matrixB: matrix B to convolution\n",
    "    :returns: result to convolution of A and B in the matrix\n",
    "    \"\"\"\n",
    "    (m1, n1) = matrixA.shape\n",
    "    (m2, n2) = matrixB.shape\n",
    "    C = np.zeros((m1 + m2 - 1, n1 + n2 -1), np.int32)\n",
    "    for j in range(1, m1 + m2):\n",
    "        for i in range(1, n1 + n2):\n",
    "            C[j - 1, i - 1] = convolution_aux(matrixA, matrixB, i, j)\n",
    "\n",
    "    return C"
   ]
  },
  {
   "cell_type": "code",
   "execution_count": 32,
   "id": "8c0eccd7",
   "metadata": {
    "kernel": "Python 3 (ipykernel)"
   },
   "outputs": [],
   "source": [
    "def convolution_aux(matrixA, matrixB, i, j):\n",
    "    \"\"\"\n",
    "    This function calculates a 1D convolution of both submatrixes\n",
    "    :param matrixA: matrix A to convolution\n",
    "    :param matrixB: matrix B to convolution\n",
    "    :param i: coordenate from the submatix in x axis\n",
    "    :param j: coordenate from the submatix in y axis\n",
    "    :returns: result to convolution of A and B in the matrix\n",
    "    \"\"\"\n",
    "    (m1, n1) = matrixA.shape\n",
    "    (m2, n2) = matrixB.shape\n",
    "    start_p = np.maximum(1, j - m2 + 1)\n",
    "    end_p = np.minimum(j, m1)\n",
    "    result = 0\n",
    "    for p in range(start_p, end_p + 1):\n",
    "        start_q = np.maximum(1, i - n2 + 1)\n",
    "        end_q = np.minimum(i, n1)\n",
    "        temp = 0\n",
    "        for q in range(start_q, end_q + 1):\n",
    "            temp += matrixA[p -1, q-1] * matrixB[j - p, i -q]\n",
    "        result += temp\n",
    "    return result"
   ]
  },
  {
   "cell_type": "code",
   "execution_count": 34,
   "id": "9d58a1ef",
   "metadata": {
    "kernel": "Python 3 (ipykernel)"
   },
   "outputs": [
    {
     "name": "stdout",
     "output_type": "stream",
     "text": [
      "Implementation of convolution\n",
      "[[  8 -10 -13  10   8]\n",
      " [ -4  -5  -2  17  12]\n",
      " [ -4  -1   3   7   4]\n",
      " [  0   0   0   0   0]]\n"
     ]
    }
   ],
   "source": [
    "A = np.array([[-2, 1, 2], [1, 2, 3], [1, 1, 1]])\n",
    "B = np.array([[-4, 3, 4], [0, 0, 0]])\n",
    "\n",
    "print(\"Implementation of convolution\")\n",
    "convol = convolution(A, B)\n",
    "print(convol)"
   ]
  },
  {
   "cell_type": "code",
   "execution_count": 35,
   "id": "117b0c3a",
   "metadata": {
    "kernel": "Python 3 (ipykernel)"
   },
   "outputs": [
    {
     "name": "stdout",
     "output_type": "stream",
     "text": [
      "Scipy implementation of convolution\n",
      "[[  8 -10 -13  10   8]\n",
      " [ -4  -5  -2  17  12]\n",
      " [ -4  -1   3   7   4]\n",
      " [  0   0   0   0   0]]\n"
     ]
    }
   ],
   "source": [
    "from scipy import signal\n",
    "A = np.array([[-2, 1, 2], [1, 2, 3], [1, 1, 1]])\n",
    "B = np.array([[-4, 3, 4], [0, 0, 0]])\n",
    "\n",
    "print(\"Scipy implementation of convolution\")\n",
    "convol = signal.convolve2d(A, B)\n",
    "print(convol)\n"
   ]
  },
  {
   "cell_type": "code",
   "execution_count": null,
   "id": "d0ac98c5",
   "metadata": {
    "kernel": "Python 3 (ipykernel)"
   },
   "outputs": [],
   "source": []
  }
 ],
 "metadata": {
  "kernelspec": {
   "display_name": "SoS",
   "language": "sos",
   "name": "sos"
  },
  "language_info": {
   "codemirror_mode": "sos",
   "file_extension": ".sos",
   "mimetype": "text/x-sos",
   "name": "sos",
   "nbconvert_exporter": "sos_notebook.converter.SoS_Exporter",
   "pygments_lexer": "sos"
  },
  "sos": {
   "kernels": [
    [
     "Python 3 (ipykernel)",
     "python3",
     "python3",
     "",
     {
      "name": "ipython",
      "version": 3
     }
    ]
   ],
   "panel": {
    "displayed": true,
    "height": 0
   },
   "version": "0.22.6"
  }
 },
 "nbformat": 4,
 "nbformat_minor": 5
}
